{
 "cells": [
  {
   "cell_type": "code",
   "execution_count": 2,
   "metadata": {},
   "outputs": [],
   "source": [
    "import numpy as np\n",
    "\n",
    "import sqlalchemy\n",
    "from sqlalchemy.ext.automap import automap_base\n",
    "from sqlalchemy.orm import Session\n",
    "from sqlalchemy import create_engine, func\n",
    "from flask import Flask, jsonify\n",
    "\n",
    "\n",
    "#################################################\n",
    "# Database Setup\n",
    "#################################################\n",
    "engine = create_engine(\"sqlite:///Resources/hawaii.sqlite\")\n",
    "\n",
    "# reflect an existing database into a new model\n",
    "Base = automap_base()\n",
    "# reflect the tables\n",
    "Base.prepare(engine, reflect=True)\n",
    "\n",
    "# Save reference to the table\n",
    "Measurement = Base.classes.measurement\n",
    "Station = Base.classes.station\n",
    "\n",
    "\n",
    "\n",
    "app = Flask(__name__)\n",
    "\n",
    "#################################################\n",
    "# Flask Routes\n",
    "#################################################\n",
    "\n",
    "@app.route(\"/\")\n",
    "def Welcome():\n",
    "    return(\n",
    "        \"/api/v1.0/precipitation\"\n",
    "            \"Convert the query results to a Dictionary using date as the key and prcp as the value.\"\n",
    "            \"Return the JSON representation of your dictionary.\"\n",
    "        \n",
    "        \"/api/v1.0/stations\"\n",
    "            \"Return a JSON list of stations from the dataset.\"\n",
    "       \n",
    "        \"/api/v1.0/tobs\"\n",
    "            \"Query for the dates and temperature observations from a year from the last data point.\"\n",
    "            \"Return a JSON list of Temperature Observations (tobs) for the previous year.\"\n",
    "        \n",
    "        \"/api/v1.0/<start> and /api/v1.0/<start>/<end>\"\n",
    "            \"The date should be under form YYYY-mm-dd\"\n",
    "            \"Return a JSON list of the minimum temperature, the average temperature, and the max temperature for a given start or start-end range.\"\n",
    "            \"When given the start only, calculate TMIN, TAVG, and TMAX for all dates greater than and equal to the start date.\"\n",
    "            \"When given the start and the end date, calculate the TMIN, TAVG, and TMAX for dates between the start and end date inclusive.\"\n",
    "    )"
   ]
  },
  {
   "cell_type": "code",
   "execution_count": null,
   "metadata": {},
   "outputs": [],
   "source": []
  }
 ],
 "metadata": {
  "kernelspec": {
   "display_name": "Python 3",
   "language": "python",
   "name": "python3"
  },
  "language_info": {
   "codemirror_mode": {
    "name": "ipython",
    "version": 3
   },
   "file_extension": ".py",
   "mimetype": "text/x-python",
   "name": "python",
   "nbconvert_exporter": "python",
   "pygments_lexer": "ipython3",
   "version": "3.7.3"
  }
 },
 "nbformat": 4,
 "nbformat_minor": 2
}
